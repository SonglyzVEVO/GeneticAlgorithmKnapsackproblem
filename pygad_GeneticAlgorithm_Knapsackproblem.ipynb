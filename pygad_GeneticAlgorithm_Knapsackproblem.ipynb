{
 "cells": [
  {
   "cell_type": "code",
   "execution_count": 10,
   "id": "1cbdcae4-578a-4d3c-8a43-876f21bf75b8",
   "metadata": {},
   "outputs": [],
   "source": [
    "import pygad\n",
    "import random\n",
    "import numpy as np"
   ]
  },
  {
   "cell_type": "code",
   "execution_count": 11,
   "id": "3bfcfec3-ca87-484d-ab47-ebfed2ced5d0",
   "metadata": {},
   "outputs": [
    {
     "name": "stdout",
     "output_type": "stream",
     "text": [
      "size :  34\n",
      "size :  34\n",
      "[7, 1, 9, 1, 7, 6, 7, 6, 3, 4, 2, 9, 5, 6, 6, 5, 7, 7, 9, 10, 3, 9, 4, 8, 1, 10, 5, 10, 3, 6, 9, 1, 10, 5]\n",
      "[4, 4, 2, 2, 5, 4, 2, 2, 1, 4, 5, 2, 3, 3, 1, 5, 4, 4, 1, 5, 1, 2, 4, 4, 3, 3, 1, 4, 2, 2, 2, 2, 5, 5]\n"
     ]
    }
   ],
   "source": [
    "seed = 123456\n",
    "\n",
    "value_list = [7, 1, 9, 1, 7, 6, 7, 6, 3, 4, 2, 9, 5, 6, 6, 5, 7, 7, 9, 10, 3, 9, 4, 8, 1, 10, 5, 10, 3, 6, 9, 1, 10, 5]\n",
    "weight_list = [4, 4, 2, 2, 5, 4, 2, 2, 1, 4, 5, 2, 3, 3, 1, 5, 4, 4, 1, 5, 1, 2, 4, 4, 3, 3, 1, 4, 2, 2, 2, 2, 5, 5]\n",
    "print(\"size : \", len(value_list))\n",
    "print(\"size : \", len(weight_list))\n",
    "\n",
    "# value_list = [random.randint(1, 10) for i in range(20)]\n",
    "print(value_list)\n",
    "# weight_list = [random.randint(1, 5) for i in range(20)]\n",
    "print(weight_list)\n",
    "weight_limit = 45"
   ]
  },
  {
   "cell_type": "code",
   "execution_count": 12,
   "id": "e8542381",
   "metadata": {},
   "outputs": [],
   "source": [
    "#test setting \n",
    "\n",
    "#pop_per_gen = 100\n",
    "pop_per_gen = 500\n",
    "\n",
    "#crossover_type = \"single_point\"\n",
    "crossover_type = \"uniform\"\n",
    "\n",
    "#parent_selection_type = \"rws\"\n",
    "#parent_selection_type = \"tournament\"\n",
    "parent_selection_type = \"rank\""
   ]
  },
  {
   "cell_type": "code",
   "execution_count": 13,
   "id": "435fb056-3046-47e1-89f4-32dfe943b572",
   "metadata": {},
   "outputs": [],
   "source": [
    "def fitness_function(solution, solution_idx):\n",
    "    value = sum(value_list * solution)\n",
    "    weight = sum(weight_list * solution)\n",
    "    if weight > weight_limit:\n",
    "        return 0\n",
    "    else:\n",
    "        return value"
   ]
  },
  {
   "cell_type": "code",
   "execution_count": 14,
   "id": "baf87fe9-6501-4ebe-8dfb-d4ecfeb9cd7d",
   "metadata": {},
   "outputs": [
    {
     "name": "stderr",
     "output_type": "stream",
     "text": [
      "c:\\Users\\narae\\anaconda3\\lib\\site-packages\\pygad\\pygad.py:787: UserWarning: Use the 'save_best_solutions' parameter with caution as it may cause memory overflow when either the number of generations or number of genes is large.\n",
      "  if not self.suppress_warnings: warnings.warn(\"Use the 'save_best_solutions' parameter with caution as it may cause memory overflow when either the number of generations or number of genes is large.\")\n",
      "c:\\Users\\narae\\anaconda3\\lib\\site-packages\\pygad\\pygad.py:795: UserWarning: Use the 'save_solutions' parameter with caution as it may cause memory overflow when either the number of generations, number of genes, or number of solutions in population is large.\n",
      "  if not self.suppress_warnings: warnings.warn(\"Use the 'save_solutions' parameter with caution as it may cause memory overflow when either the number of generations, number of genes, or number of solutions in population is large.\")\n"
     ]
    }
   ],
   "source": [
    "ga = pygad.GA(num_generations=200,\n",
    "              num_parents_mating=96,\n",
    "              fitness_func=fitness_function,\n",
    "             sol_per_pop=pop_per_gen,\n",
    "             num_genes=34,\n",
    "             gene_type=int,\n",
    "             parent_selection_type=parent_selection_type,\n",
    "             keep_parents=0,\n",
    "             crossover_type=crossover_type,\n",
    "              crossover_probability=0.5,\n",
    "             mutation_type=\"random\",\n",
    "             init_range_low=0,\n",
    "             init_range_high=1,\n",
    "             mutation_probability=0.03,\n",
    "             gene_space=[0,1],\n",
    "             save_solutions=True,\n",
    "             save_best_solutions=True # ,K_tournament=2\n",
    "             )"
   ]
  },
  {
   "cell_type": "code",
   "execution_count": 15,
   "id": "b3a74f2b-0ee6-434d-9679-4f4b94782de7",
   "metadata": {},
   "outputs": [],
   "source": [
    "ga.run()"
   ]
  },
  {
   "cell_type": "code",
   "execution_count": 16,
   "id": "bea8c3d1-4b9c-4ea3-afdb-3b61cc51fa1c",
   "metadata": {},
   "outputs": [
    {
     "data": {
      "image/png": "[encoded data removed]",
      "text/plain": [
       "<Figure size 432x288 with 1 Axes>"
      ]
     },
     "metadata": {
      "needs_background": "light"
     },
     "output_type": "display_data"
    },
    {
     "data": {
      "image/png": "[encoded data removed]",
      "text/plain": [
       "<Figure size 432x288 with 1 Axes>"
      ]
     },
     "execution_count": 16,
     "metadata": {},
     "output_type": "execute_result"
    }
   ],
   "source": [
    "ga.plot_fitness()"
   ]
  },
  {
   "cell_type": "code",
   "execution_count": 17,
   "id": "599b085b-3e34-4bc3-9738-146a19a0a292",
   "metadata": {},
   "outputs": [
    {
     "data": {
      "text/plain": [
       "(array([0, 0, 1, 0, 0, 0, 1, 1, 1, 0, 0, 1, 0, 1, 1, 0, 0, 0, 1, 1, 1, 1,\n",
       "        0, 1, 0, 1, 1, 1, 1, 1, 1, 0, 1, 0]),\n",
       " 138,\n",
       " 0)"
      ]
     },
     "execution_count": 17,
     "metadata": {},
     "output_type": "execute_result"
    }
   ],
   "source": [
    "ga.best_solution()"
   ]
  },
  {
   "cell_type": "code",
   "execution_count": 18,
   "id": "6e359adf-d1be-4e86-aebd-10837e0091f4",
   "metadata": {},
   "outputs": [],
   "source": [
    "a = ga.cal_pop_fitness()"
   ]
  },
  {
   "cell_type": "code",
   "execution_count": 19,
   "id": "80798293-db0c-4c3d-9ce0-1ea86099bfcd",
   "metadata": {},
   "outputs": [],
   "source": [
    "b = np.sort(a)"
   ]
  },
  {
   "cell_type": "code",
   "execution_count": 20,
   "id": "6f1eb9de-f85e-4ec4-95f9-72fdac205fe0",
   "metadata": {},
   "outputs": [
    {
     "name": "stdout",
     "output_type": "stream",
     "text": [
      "[114, 113, 117, 127, 132, 132, 133, 136, 136, 137, 137, 137, 138, 138, 138, 138, 138, 138, 138, 138, 138, 138, 138, 138, 138, 138, 138, 138, 138, 138, 138, 138, 138, 138, 138, 138, 138, 138, 138, 138, 138, 138, 138, 138, 138, 138, 138, 138, 138, 138, 138, 138, 138, 138, 138, 138, 138, 138, 138, 138, 138, 138, 138, 138, 138, 138, 138, 138, 138, 138, 138, 138, 138, 138, 138, 138, 138, 138, 138, 138, 138, 138, 138, 138, 138, 138, 138, 138, 138, 138, 138, 138, 138, 138, 138, 138, 138, 138, 138, 138, 138, 138, 138, 138, 138, 138, 138, 138, 138, 138, 138, 138, 138, 138, 138, 138, 138, 138, 138, 138, 138, 138, 138, 138, 138, 138, 138, 138, 138, 138, 138, 138, 138, 138, 138, 138, 138, 138, 138, 138, 138, 138, 138, 138, 138, 138, 138, 138, 138, 138, 138, 138, 138, 138, 138, 138, 138, 138, 138, 138, 138, 138, 138, 138, 138, 138, 138, 138, 138, 138, 138, 138, 138, 138, 138, 138, 138, 138, 138, 138, 138, 138, 138, 138, 138, 138, 138, 138, 138, 138, 138, 138, 138, 138, 138, 138, 138, 138, 138, 138, 138]\n",
      "Max Fitness :  138\n"
     ]
    }
   ],
   "source": [
    "print(ga.best_solutions_fitness)\n",
    "print(\"Max Fitness : \", max(ga.best_solutions_fitness))"
   ]
  },
  {
   "cell_type": "code",
   "execution_count": 21,
   "id": "038301b3",
   "metadata": {},
   "outputs": [
    {
     "data": {
      "text/plain": [
       "array([[1, 0, 1, ..., 1, 0, 0],\n",
       "       [1, 0, 1, ..., 1, 0, 0],\n",
       "       [0, 0, 1, ..., 0, 0, 0],\n",
       "       ...,\n",
       "       [0, 0, 1, ..., 0, 1, 0],\n",
       "       [0, 0, 1, ..., 0, 1, 0],\n",
       "       [0, 0, 1, ..., 0, 1, 0]])"
      ]
     },
     "execution_count": 21,
     "metadata": {},
     "output_type": "execute_result"
    }
   ],
   "source": [
    "ga.best_solutions"
   ]
  },
  {
   "cell_type": "code",
   "execution_count": 22,
   "id": "2ecbc7fc",
   "metadata": {},
   "outputs": [],
   "source": [
    "path = r\"C:\\Users\\narae\\OneDrive\\เดสก์ท็อป\\หาความรู้เข้าสมอง\\Genetic Algorithm\\500_uni_rank\""
   ]
  },
  {
   "cell_type": "code",
   "execution_count": 23,
   "id": "ef0df3fc",
   "metadata": {},
   "outputs": [],
   "source": [
    "ga.save(path)"
   ]
  },
  {
   "cell_type": "code",
   "execution_count": 25,
   "id": "28a44c26",
   "metadata": {},
   "outputs": [],
   "source": [
    "test = pygad.load(r\"C:\\Users\\narae\\OneDrive\\เดสก์ท็อป\\หาความรู้เข้าสมอง\\Genetic Algorithm\\500_uni_rank\")"
   ]
  },
  {
   "cell_type": "code",
   "execution_count": 30,
   "id": "fc3632d8",
   "metadata": {},
   "outputs": [
    {
     "data": {
      "image/png": "[encoded data removed]",
      "text/plain": [
       "<Figure size 432x288 with 1 Axes>"
      ]
     },
     "metadata": {
      "needs_background": "light"
     },
     "output_type": "display_data"
    },
    {
     "data": {
      "image/png": "[encoded data removed]",
      "text/plain": [
       "<Figure size 432x288 with 1 Axes>"
      ]
     },
     "execution_count": 30,
     "metadata": {},
     "output_type": "execute_result"
    }
   ],
   "source": [
    "test.plot_result()"
   ]
  }
 ],
 "metadata": {
  "interpreter": {
   "hash": "eb05fc5293c4e0da122d58fd74bcd689822cf832bf19f3839722d35ff1849cb5"
  },
  "kernelspec": {
   "display_name": "Python 3.9.7 ('base')",
   "language": "python",
   "name": "python3"
  },
  "language_info": {
   "codemirror_mode": {
    "name": "ipython",
    "version": 3
   },
   "file_extension": ".py",
   "mimetype": "text/x-python",
   "name": "python",
   "nbconvert_exporter": "python",
   "pygments_lexer": "ipython3",
   "version": "3.9.7"
  }
 },
 "nbformat": 4,
 "nbformat_minor": 5
}
